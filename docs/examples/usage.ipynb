{
 "cells": [
  {
   "cell_type": "markdown",
   "id": "9e2c32ef-e579-4e95-b5d2-6f931784c7cd",
   "metadata": {},
   "source": [
    "# Example to fetch SAR Sentinel-1 WV roughness figures from X-waves application"
   ]
  },
  {
   "cell_type": "code",
   "execution_count": null,
   "id": "5a9d3051-31ec-4f65-96a7-4914c34d544a",
   "metadata": {
    "tags": []
   },
   "outputs": [],
   "source": [
    "import apixwaves"
   ]
  },
  {
   "cell_type": "markdown",
   "id": "5ebf1ebc-104c-4126-ba9f-148cf1bd40ee",
   "metadata": {},
   "source": [
    "## define space and time query"
   ]
  },
  {
   "cell_type": "code",
   "execution_count": null,
   "id": "7a907c81-9def-41a2-b5fd-0f077653efa2",
   "metadata": {
    "tags": []
   },
   "outputs": [],
   "source": [
    "from apixwaves import timeSpaceFileListQuery\n",
    "bbox = \"30,-30,-30,10\"\n",
    "satellite = 'S1A'\n",
    "#latmin,lonmin,latmax,lonmax =  30,-30,-30,10\n",
    "date_interval = \"20140101010101,20170106112608\"\n",
    "dictQuery = timeSpaceFileListQuery.rawQuery(bbox=bbox,satellite=satellite,date_interval=date_interval)\n",
    "print(len(dictQuery))\n",
    "print(dictQuery[0])"
   ]
  },
  {
   "cell_type": "markdown",
   "id": "97e56cd0-5e6f-4cf5-9fac-c7ba015061ef",
   "metadata": {},
   "source": [
    "## display a single spectra"
   ]
  },
  {
   "cell_type": "code",
   "execution_count": null,
   "id": "6c1f4829-5ad3-49f0-b0ce-ed90ce796f11",
   "metadata": {
    "tags": []
   },
   "outputs": [],
   "source": [
    "url_image = 'https://xwaves-services.ifremer.fr/datavore/exp/datavore/public/S1B/S1B_WV_SLC__1SSV_20211221T165539_20211221T172051_030126_0398ED_658A.SAFE/s1b-wv1-slc-vv-20211221t170920-20211221t170923-030126-0398ed-057.tiff/S1B_WV_OCN__2SSV_20211221T165539_20211221T172051_030126_0398ED_D0BA.SAFE/s1b-wv1-ocn-vv-20211221t170920-20211221t170923-030126-0398ed-057.nc/realPart/20211221170920/imageSentinel/'\n",
    "from matplotlib import pyplot as plt\n",
    "#import fsspec\n",
    "from PIL import Image\n",
    "import requests\n",
    "from io import BytesIO\n",
    "\n",
    "response = requests.get(url_image)\n",
    "img = Image.open(BytesIO(response.content))\n",
    "img"
   ]
  },
  {
   "cell_type": "markdown",
   "id": "9d715a4d-da79-4e85-8a73-23a46e426eaf",
   "metadata": {},
   "source": [
    "## reconstruct path for images"
   ]
  },
  {
   "cell_type": "code",
   "execution_count": null,
   "id": "d27247db-938e-4d71-8b83-e9a5c809ec13",
   "metadata": {
    "tags": []
   },
   "outputs": [],
   "source": [
    "pattern_url_image = 'https://xwaves-services.ifremer.fr/datavore/exp/datavore/public/%s/%s/%s/%s/%s/imageSentinel/'\n",
    "import os\n",
    "import numpy as np\n",
    "empty_field = np.ones((142),dtype=str)\n",
    "empty_field[:] = ' '\n",
    "empty_field = ''.join(empty_field)\n",
    "imagetype = 'realPart' # or realPart or ..\n",
    "imagetype = 'roughness'\n",
    "cpt_ok = 0\n",
    "for acq in dictQuery:\n",
    "    #print(acq)\n",
    "    sat = acq[3]\n",
    "    tiffid = acq[10]\n",
    "    if not np.array_equal(tiffid,empty_field):\n",
    "        ocnuid = acq[11]\n",
    "        startdate = acq[0]\n",
    "        real_pat = os.path.join(pattern_url_image%(sat,tiffid,ocnuid,imagetype,startdate))\n",
    "        print(real_pat)\n",
    "        cpt_ok += 1\n",
    "        response = requests.get(real_pat)\n",
    "        img = Image.open(BytesIO(response.content))\n",
    "        plt.figure()\n",
    "        plt.imshow(img)\n",
    "        if cpt_ok>3:\n",
    "            \n",
    "            break\n"
   ]
  }
 ],
 "metadata": {
  "kernelspec": {
   "display_name": "Python 3 (ipykernel)",
   "language": "python",
   "name": "python3"
  },
  "language_info": {
   "codemirror_mode": {
    "name": "ipython",
    "version": 3
   },
   "file_extension": ".py",
   "mimetype": "text/x-python",
   "name": "python",
   "nbconvert_exporter": "python",
   "pygments_lexer": "ipython3",
   "version": "3.9.15"
  }
 },
 "nbformat": 4,
 "nbformat_minor": 5
}
